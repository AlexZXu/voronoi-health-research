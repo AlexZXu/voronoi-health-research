{
 "cells": [
  {
   "cell_type": "markdown",
   "id": "d9575111-ffa6-41c0-8e8a-2d13799938df",
   "metadata": {},
   "source": [
    "# Optimizing Public Health Systems using Voronoi Diagrams and Unsupervised ML"
   ]
  },
  {
   "cell_type": "markdown",
   "id": "1b7e5545-af21-423e-93c6-9c26a5e86113",
   "metadata": {},
   "source": [
    "## Abstract"
   ]
  },
  {
   "cell_type": "markdown",
   "id": "435ada39-b8b0-4414-b7e3-f554401e1178",
   "metadata": {},
   "source": [
    "This study explores the application of Voronoi diagrams in modeling and optimizing access to public health facilities. It starts with a basic model that maps population distribution across a geographic area using points and Voronoi cells, providing findings into facility load distribution and imbalances. To address the complexities of real-world scenarios, the research then introduces an improved scoring system that incorporates factors such as population density, patient decision-making, and health-related risks to create a more nuanced evaluation of facility performance and accessibility.\n",
    "\n",
    "Dynamic optimization algorithms, including weighted k-means clustering and iterative adjustments, are developed to optimize key factors, such as minimizing variance in population distribution across facilities and reducing the number of individuals located far from these facilities. Using real-world data from Atlanta, Georgia, the study demonstrates the practical applicability of these approaches in identifying and potentially mitigating disparities in facility access. The research also features Python-based implementations using Matplotlib, with the raw code included as a resource for further development. Finally, preliminary explorations of alternative algorithms and ideas are presented, focusing on improving population balancing mechanisms and introducing ”forces” to optimize facility locations."
   ]
  },
  {
   "cell_type": "markdown",
   "id": "1ce12ff5-3d45-4916-8223-72b11cc3fec5",
   "metadata": {},
   "source": [
    "## Implementation"
   ]
  },
  {
   "cell_type": "markdown",
   "id": "49236328-6be8-4fa3-a63e-6a041a2bafae",
   "metadata": {},
   "source": [
    "Here we introduce examples of how our algorithms and strategies are implemented. These are slightly different from those in the .py files, so I would recommend looking at both sources. To run the Python scripts in this project, simply have Python installed, and run:\n",
    "\n",
    "```console\n",
    "python filename.py\n",
    "```\n",
    "\n",
    "Let's start by implementing an initial model that sums up the population in each Voronoi cell, along the way writing the code to draw a color-mapped Voronoi diagram."
   ]
  },
  {
   "cell_type": "markdown",
   "id": "827265f2-6e2d-406f-b561-8681763d4584",
   "metadata": {},
   "source": [
    "### Initial Model"
   ]
  },
  {
   "cell_type": "markdown",
   "id": "78436d32-9321-4665-8aec-28fd7a27ec2e",
   "metadata": {},
   "source": [
    "We import the necessary Python libraries."
   ]
  },
  {
   "cell_type": "code",
   "execution_count": 32,
   "id": "8a53e4ac-ddc7-4910-b499-464ff74a95df",
   "metadata": {},
   "outputs": [],
   "source": [
    "import numpy as np\n",
    "import matplotlib.pyplot as plt\n",
    "from scipy.spatial import Voronoi, Delaunay, voronoi_plot_2d\n",
    "import random"
   ]
  },
  {
   "cell_type": "markdown",
   "id": "7e84505d-57a4-474a-a48a-c59f251ccecf",
   "metadata": {},
   "source": [
    "We implement a sample dataset of initial facility points (source points) and population-position points"
   ]
  },
  {
   "cell_type": "code",
   "execution_count": 34,
   "id": "0fe0f650-c6d4-46bd-8a31-0c7e5a963932",
   "metadata": {},
   "outputs": [
    {
     "name": "stdout",
     "output_type": "stream",
     "text": [
      "Source points (# of elements=5): [[ 1.  1.]\n",
      " [ 6. 10.]\n",
      " [25.  2.]\n",
      " [15. 23.]\n",
      " [ 6.  7.]]\n",
      "Population points (# of elements=49): [[ 0  0 24]\n",
      " [ 0  5 29]\n",
      " [ 0 10  6]\n",
      " ...\n",
      " [30 20  7]\n",
      " [30 25 13]\n",
      " [30 30  1]]\n"
     ]
    }
   ],
   "source": [
    "# creating sample datasets\n",
    "\n",
    "source_points = np.array([[1, 1], [6, 10], [25, 2], [15, 23], [6, 7]], dtype='float64')\n",
    "# create python list and then convert to Numpy array\n",
    "pop_list = []\n",
    "\n",
    "# create sample grid of population points\n",
    "for i in range(0, 35, 5):\n",
    "    for j in range(0, 35, 5):\n",
    "        #random population value\n",
    "        pop_list.append([i, j, random.randint(1, 35)])\n",
    "\n",
    "pop_points = np.array(pop_list)\n",
    "\n",
    "np.set_printoptions(threshold=5)\n",
    "print(f\"Source points (# of elements={len(source_points)}): {source_points}\")\n",
    "print(f\"Population points (# of elements={len(pop_points)}): {pop_points}\")"
   ]
  },
  {
   "cell_type": "markdown",
   "id": "b770550f-1c10-4328-8b39-4ebceec59e94",
   "metadata": {},
   "source": [
    "Now, we implement the code utilizing SciPy and Matplotlib to draw the Voronoi diagram."
   ]
  },
  {
   "cell_type": "code",
   "execution_count": 35,
   "id": "63adf50e-c23e-4e1c-b002-99a274adaa2f",
   "metadata": {},
   "outputs": [
    {
     "data": {
      "text/plain": [
       "(0.0, 30.5)"
      ]
     },
     "execution_count": 35,
     "metadata": {},
     "output_type": "execute_result"
    },
    {
     "data": {
      "image/png": "[encoded data removed]",
      "text/plain": [
       "<Figure size 640x480 with 1 Axes>"
      ]
     },
     "metadata": {},
     "output_type": "display_data"
    }
   ],
   "source": [
    "# add distant ghost points to source points for purposes of drawing complete Voronoi diagram\n",
    "upd_source_points = np.append(source_points,  [[9999,9999], [-9999,9999], [9999,-9999], [-9999,-9999]], axis = 0)\n",
    "\n",
    "# set graph bounds\n",
    "bounding_box = np.array([0., 30.5, 0., 30.5]) #x_min, x_max, y_min, y_max\n",
    "\n",
    "# compute voronoi areas\n",
    "vor = Voronoi(upd_source_points)\n",
    "\n",
    "# create matplotlib graph\n",
    "fig, ax = plt.subplots()\n",
    "\n",
    "voronoi_plot_2d(vor, ax=ax)\n",
    "\n",
    "# apply bounds to graph\n",
    "ax.set_xlim(bounding_box[0], bounding_box[1])\n",
    "ax.set_ylim(bounding_box[2], bounding_box[3])"
   ]
  },
  {
   "cell_type": "markdown",
   "id": "2402b9af-a1bf-4880-b0ee-e2d497aa88e2",
   "metadata": {},
   "source": [
    "We implement a function to compute the population in each cell. A population belongs to the cell of the closest source point (or as we'll also use interchangeably, facility)."
   ]
  },
  {
   "cell_type": "code",
   "execution_count": 36,
   "id": "c304c220-8f66-48be-a33f-f3104bcfba6d",
   "metadata": {},
   "outputs": [
    {
     "name": "stdout",
     "output_type": "stream",
     "text": [
      "[ 78 140 225 372  63]\n"
     ]
    }
   ],
   "source": [
    "def computePopulation(pop_points, source_points):\n",
    "    # initial population counts for each source point (start at 0)\n",
    "    source_point_pops = np.array(np.zeros(len(source_points)), dtype=np.int16)\n",
    "    for i in range(0, len(pop_points)):\n",
    "        # get population point position\n",
    "        p_x = pop_points[i, 0]\n",
    "        p_y = pop_points[i, 1]\n",
    "\n",
    "        # save current minimum distance and index\n",
    "        min_dist = 1e12\n",
    "        min_index = -1\n",
    "        \n",
    "        for j in range(0, len(source_points)):\n",
    "            # get facility position\n",
    "            source_x = source_points[j, 0]\n",
    "            source_y = source_points[j, 1]\n",
    "\n",
    "            # calculate distance and save new distance + facility if smaller\n",
    "            dist = (source_x - p_x)**2 + (source_y - p_y)**2\n",
    "            if (dist < min_dist):\n",
    "                min_dist = dist\n",
    "                min_index = j\n",
    "\n",
    "        # add population to facility with index of associated cell\n",
    "        source_point_pops[min_index] += pop_points[i, 2]\n",
    "    \n",
    "    np.set_printoptions(threshold=1000)\n",
    "    # print computed populations\n",
    "    return source_point_pops\n",
    "    \n",
    "# run function to test\n",
    "source_point_pops = computePopulation(pop_points, source_points)\n",
    "\n",
    "print(source_point_pops)"
   ]
  },
  {
   "cell_type": "markdown",
   "id": "7d619a29-a43d-4496-9fb2-779314d4ad37",
   "metadata": {},
   "source": [
    "We will now implement a function to make the graph more visual and clear. This function will color each cell based on a comparison between the population in each cell and the total average population in each cell. The function will also label each point with the current population in the cell."
   ]
  },
  {
   "cell_type": "code",
   "execution_count": 37,
   "id": "06077032-7f93-4cad-b2dc-24f09e631894",
   "metadata": {},
   "outputs": [],
   "source": [
    "def color_func(source_point_pops):\n",
    "    # get all voronoi regions\n",
    "    regions = vor.point_region\n",
    "\n",
    "    # compute population average\n",
    "    pop_avg = np.average(source_point_pops)\n",
    "\n",
    "    # define color of cell based on ratio\n",
    "    ratio_colors = {\n",
    "        13: \"#ffad66\",\n",
    "        12: \"#f2dd1b\",\n",
    "        11: \"#5ea86e\",\n",
    "        10: \"#5ea86e\",\n",
    "        9: \"#58db74\",\n",
    "        8: \"#bdf0c8\",\n",
    "        7: \"#60e06d\",\n",
    "    }\n",
    "    \n",
    "    for i in range(len(regions)):\n",
    "        # get points/polygon defining each Voronoi cell\n",
    "        region = vor.regions[vor.point_region[i]]\n",
    "        polygon = [vor.vertices[i] for i in region]\n",
    "\n",
    "        # determining cell color\n",
    "        color = \"#ffffff\"\n",
    "        \n",
    "        if (i < len(source_points)):\n",
    "            # get ratio (times 10 and rounded to get clear integer)\n",
    "            ratio = round(source_point_pops[i]/pop_avg * 10)\n",
    "    \n",
    "            if (ratio < 7):\n",
    "                color = \"#11a841\"\n",
    "            elif (ratio > 13):\n",
    "                color = \"#f01b07\"\n",
    "            else:\n",
    "                color = ratio_colors[ratio]\n",
    "\n",
    "        #color regions\n",
    "        ax.fill(*zip(*polygon), alpha=0.4, facecolor=color)\n",
    "\n",
    "        if (i < len(source_points)):\n",
    "            ax.annotate(\"Pop: \" + str(0), (source_points[i, 0], source_points[i, 1]))\n",
    "\n",
    "        \n",
    "color_func(source_point_pops)"
   ]
  },
  {
   "cell_type": "code",
   "execution_count": null,
   "id": "49a070f0-9c52-4adc-b42d-772e45fabcfc",
   "metadata": {},
   "outputs": [],
   "source": []
  }
 ],
 "metadata": {
  "kernelspec": {
   "display_name": "Python 3 (ipykernel)",
   "language": "python",
   "name": "python3"
  },
  "language_info": {
   "codemirror_mode": {
    "name": "ipython",
    "version": 3
   },
   "file_extension": ".py",
   "mimetype": "text/x-python",
   "name": "python",
   "nbconvert_exporter": "python",
   "pygments_lexer": "ipython3",
   "version": "3.12.3"
  }
 },
 "nbformat": 4,
 "nbformat_minor": 5
}
